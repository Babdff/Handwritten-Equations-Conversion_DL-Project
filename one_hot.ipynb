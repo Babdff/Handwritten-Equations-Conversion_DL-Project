{
 "cells": [
  {
   "cell_type": "code",
   "execution_count": 1,
   "id": "b4ed9866",
   "metadata": {},
   "outputs": [],
   "source": [
    "import numpy as np\n",
    "\n",
    "# Encode to one_hot format\n",
    "def encode(class_name, classes):\n",
    "\n",
    "    one_hot = np.zeros(shape=(len(classes)), dtype=np.int8)\n",
    "    class_index = classes.index(class_name)\n",
    "    one_hot[class_index] = 1\n",
    "\n",
    "    return one_hot\n",
    "\n",
    "# Decode from one_hot format to string\n",
    "def decode(index, classes):\n",
    "    \n",
    "    return classes[index]"
   ]
  },
  {
   "cell_type": "code",
   "execution_count": null,
   "id": "fa8043fa",
   "metadata": {},
   "outputs": [],
   "source": []
  }
 ],
 "metadata": {
  "kernelspec": {
   "display_name": "Python 3 (ipykernel)",
   "language": "python",
   "name": "python3"
  },
  "language_info": {
   "codemirror_mode": {
    "name": "ipython",
    "version": 3
   },
   "file_extension": ".py",
   "mimetype": "text/x-python",
   "name": "python",
   "nbconvert_exporter": "python",
   "pygments_lexer": "ipython3",
   "version": "3.10.9"
  }
 },
 "nbformat": 4,
 "nbformat_minor": 5
}
