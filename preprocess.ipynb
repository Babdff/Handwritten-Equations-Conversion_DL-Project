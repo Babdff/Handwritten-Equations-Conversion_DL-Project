{
 "cells": [
  {
   "cell_type": "code",
   "execution_count": 1,
   "id": "af645aed",
   "metadata": {},
   "outputs": [],
   "source": [
    "import os\n",
    "import re\n",
    "import random\n",
    "import argparse\n",
    "import numpy as np\n",
    "from PIL import Image\n",
    "import csv\n",
    "import imageio\n",
    "from extract import Extractor\n",
    "from one_hot import encode\n",
    "# to save the png format of all the training and testing data.\n",
    "# from extract import save_data\n"
   ]
  },
  {
   "cell_type": "code",
   "execution_count": 2,
   "id": "2ada76dd",
   "metadata": {},
   "outputs": [],
   "source": [
    "def get_data():\n",
    "\n",
    "    extractor = Extractor(32, \"2012\")\n",
    "    train_data, test_data, test_data_char = extractor.pixels()\n",
    "\n",
    "    train_inputs = []\n",
    "    train_labels = []\n",
    "\n",
    "    test_inputs = []\n",
    "    test_labels = []\n",
    "\n",
    "    test_inputs_char = []\n",
    "    test_labels_char = []\n",
    "\n",
    "    #extracting the training data\n",
    "    for i in train_data:\n",
    "        train_inputs.append(i['features'])\n",
    "        train_labels.append(i['label'])\n",
    "        \n",
    "    train_inputs = np.array(train_inputs)\n",
    "    train_inputs = np.reshape(train_inputs, (-1, 1, 32 ,32))\n",
    "    train_inputs = np.transpose(train_inputs, axes=[0,2,3,1])\n",
    "\n",
    "    train_labels = [encode(train_label, extractor.classes) for train_label in train_labels]\n",
    "    train_labels = np.asarray(train_labels)\n",
    "\n",
    "    #extracting the testing data to make the dataset of full mathematical expressions\n",
    "\n",
    "    for i in test_data:\n",
    "        test_input = []\n",
    "        test_label = []\n",
    "\n",
    "        for j in i:\n",
    "            test_input.append(j['features'])\n",
    "            test_label.append(j['label'])\n",
    "        \n",
    "        test_label = np.array(test_label)\n",
    "        test_label = [encode(test_i, extractor.classes) for test_i in test_label]\n",
    "\n",
    "        test_inputs.append(test_input)\n",
    "        test_labels.append(test_label)\n",
    "\n",
    "    #extracting testing data to make a dataset of individual mathematical symbols\n",
    "    for i in test_data_char:\n",
    "        test_inputs_char.append(i['features'])\n",
    "        test_labels_char.append(i['label'])\n",
    "\n",
    "    test_inputs_char = np.array(test_inputs_char)\n",
    "    test_inputs_char = np.expand_dims(test_inputs_char, 0)\n",
    "    test_inputs_char = np.reshape(test_inputs_char, (-1,32,32,1))\n",
    "    test_labels_char = [encode(test_label_char, extractor.classes) for test_label_char in test_labels_char]\n",
    "    test_labels_char = np.array(test_labels_char)\n",
    "\n",
    "    return train_inputs, train_labels, test_inputs, test_labels, test_inputs_char, test_labels_char, extractor\n",
    "    "
   ]
  },
  {
   "cell_type": "code",
   "execution_count": null,
   "id": "8b621418",
   "metadata": {},
   "outputs": [],
   "source": []
  },
  {
   "cell_type": "code",
   "execution_count": null,
   "id": "fd8d39ce",
   "metadata": {},
   "outputs": [],
   "source": []
  },
  {
   "cell_type": "code",
   "execution_count": null,
   "id": "da283f6b",
   "metadata": {},
   "outputs": [],
   "source": []
  }
 ],
 "metadata": {
  "kernelspec": {
   "display_name": "Python 3 (ipykernel)",
   "language": "python",
   "name": "python3"
  },
  "language_info": {
   "codemirror_mode": {
    "name": "ipython",
    "version": 3
   },
   "file_extension": ".py",
   "mimetype": "text/x-python",
   "name": "python",
   "nbconvert_exporter": "python",
   "pygments_lexer": "ipython3",
   "version": "3.10.9"
  }
 },
 "nbformat": 4,
 "nbformat_minor": 5
}
